{
 "cells": [
  {
   "cell_type": "markdown",
   "metadata": {},
   "source": [
    "## Análisis Exploratorio de Datos (EDA) - Dataset: vehicles_us.csv\n\n",
    "En este proyecto, analizaremos el conjunto de datos de anuncios de venta de vehículos en EE.UU.\n\n",
    "**Objetivo:**\n",
    "Entender la estructura y contenido del dataset para identificar patrones, valores atípicos y relaciones entre variables."
   ]
  },
  {
   "cell_type": "markdown",
   "metadata": {},
   "source": [
    "### 1. Carga y Preparación de Datos\n\n",
    "Importamos las librerías y cargamos los datos usando nuestra función de preprocesamiento centralizada. ",
    "Esto asegura que trabajamos con datos limpios y consistentes."
   ]
  },
  {
   "cell_type": "code",
   "execution_count": null,
   "metadata": {},
   "outputs": [],
   "source": [
    "import pandas as pd\n",
    "import plotly.express as px\n",
    "import sys\n",
    "# Añadir el directorio src a la ruta para poder importar nuestro módulo\n",
    "sys.path.append('../src')\n",
    "from data_processing import load_and_preprocess_data\n",
    "\n",
    "# Cargar y preprocesar los datos\n",
    "# La ruta es relativa a la ubicación del notebook\n",
    "file_path = '../data/raw/vehicles_us.csv'\n",
    "df_car = load_and_preprocess_data(file_path)\n",
    "\n",
    "print(\"--- Información del DataFrame después de la limpieza ---\")\n",
    "df_car.info()"
   ]
  },
  {
   "cell_type": "markdown",
   "metadata": {},
   "source": [
    "### 2. Análisis Exploratorio\n\n",
    "Ahora que los datos están limpios, podemos explorarlos para encontrar insights."
   ]
  },
  {
   "cell_type": "markdown",
   "metadata": {},
   "source": [
    "#### Análisis de Precios"
   ]
  },
  {
   "cell_type": "code",
   "execution_count": null,
   "metadata": {},
   "outputs": [],
   "source": [
    "print(\"\n--- Estadísticas de Precios ---\")\n",
    "print(df_car['price'].describe())\n",
    "\n",
    "# Histograma de precios\n",
    "fig1 = px.histogram(df_car, x='price', nbins=50, title='Distribución de Precios')\n",
    "fig1.show()"
   ]
  },
  {
   "cell_type": "markdown",
   "metadata": {},
   "source": [
    "#### Precio vs. Kilometraje por Condición\n\n",
    "Este gráfico nos ayuda a entender la correlación entre el precio y el desgaste del vehículo."
   ]
  },
  {
   "cell_type": "code",
   "execution_count": null,
   "metadata": {},
   "outputs": [],
   "source": [
    "fig2 = px.scatter(\n",
    "    df_car,\n",
    "    x='odometer',\n",
    "    y='price',\n",
    "    color='condition',\n",
    "    title='Precio vs. Kilometraje por Condición del Vehículo'\n",
    ")\n",
    "fig2.show()"
   ]
  },
  {
   "cell_type": "markdown",
   "metadata": {},
   "source": [
    "#### Análisis por Marca\n\n",
    "¿Qué marcas tienen el precio promedio más alto?"
   ]
  },
  {
   "cell_type": "code",
   "execution_count": null,
   "metadata": {},
   "outputs": [],
   "source": [
    "print(\"\n--- Top 10 Marcas por Precio Promedio ---\")\n",
    "top_10_brands = df_car.groupby('manufacturer')['price'].mean().sort_values(ascending=False).head(10)\n",
    "print(top_10_brands)\n",
    "\n",
    "fig3 = px.bar(\n",
    "    top_10_brands,\n",
    "    title='Precio Promedio por Marca (Top 10)',\n",
    "    labels={'value': 'Precio Promedio (USD)', 'manufacturer': 'Marca'}\n",
    ")\n",
    "fig3.show()"
   ]
  }
 ],
 "metadata": {
  "kernelspec": {
   "display_name": "Python 3",
   "language": "python",
   "name": "python3"
  },
  "language_info": {
   "name": "python",
   "version": "3.9.7"
  }
 },
 "nbformat": 4,
 "nbformat_minor": 4
}